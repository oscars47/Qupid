{
  "cells": [
    {
      "cell_type": "code",
      "execution_count": 1,
      "metadata": {
        "collapsed": false
      },
      "outputs": [],
      "source": [
        "# This cell is added by sphinx-gallery\n",
        "# It can be customized to whatever you like\n",
        "%matplotlib inline"
      ]
    },
    {
      "cell_type": "markdown",
      "metadata": {},
      "source": [
        "\n",
        "Quantum algorithms on the Xanadu quantum cloud\n",
        "==============================================\n",
        "\n",
        "In this tutorial, we program photonic devices available on the Xanadu cloud platform to implement\n",
        "proof-of-principle algorithms for Gaussian boson sampling, molecular vibronic spectra, and graph\n",
        "similarity. You will learn how to use Strawberry Fields 🍓 to\n",
        "program the chips and process the output samples for each task. We follow closely the results\n",
        "presented in the paper \"Quantum circuits with many photons on a programmable nanophotonic chip\"\n",
        "[[#arrazola2021]_].\n",
        "\n",
        "More details on how to submit jobs to the Xanadu cloud can be found in\n",
        ":doc:`this tutorial </demos/tutorial_X8>`. Additional information on the algorithms themselves\n",
        "can be found in the tutorials for :doc:`vibronic spectra\n",
        "</apps/run_tutorial_vibronic>` and :doc:`graph similarity </apps/run_tutorial_similarity>`.\n",
        "\n",
        "Finally, an authentication token is required to access hardware ️🔑. If you do not have an\n",
        "authentication token, please sign up for hardware access via\n",
        "`Xanadu Cloud <https://platform.xanadu.ai/auth/realms/platform/protocol/openid-connect/registrations?client_id=public&redirect_uri=https%3A%2F%2Fcloud.xanadu.ai%2Flogin&response_type=code>`__.\n",
        "\n",
        "\n",
        "Remote programming of photonic chips\n",
        "------------------------------------\n",
        "Strawberry Fields is a software platform for photonic quantum computing --- it provides access\n",
        "to tools for designing and simulating photonic circuits, and also serves as the application\n",
        "programming interface for photonic hardware on the Xanadu cloud. In this tutorial, we program\n",
        "X8 devices, which consist of eight modes separated into four spatial modes, each carrying\n",
        "two separate frequencies. We call modes 0 to 3 the signal modes and modes 4 to 7 the idler modes.\n",
        "\n",
        "The circuit architecture consists of the following components:\n",
        "\n",
        "* Firstly, two mode squeezing operations act on each pair of\n",
        "  signal/idler modes. Squeezing can be turned on or off for a fixed squeezing level.\n",
        "\n",
        "* The second component of the circuit is a universal four-mode interferometer\n",
        "  acting equally on signal and idler modes.\n",
        "\n",
        "* Finally, output modes are probed using transition-edge sensors capable\n",
        "  of counting the number of photons.\n",
        "\n",
        "The figure below shows a micrograph of the chip, a photograph of the\n",
        "complete system fit to a standard server rack, and a schematic of the control system.\n",
        "\n",
        "![](/tutorials/images/overview.svg)\n",
        "\n",
        "    :align: center\n",
        "    :width: 70%\n",
        "    :target: javascript:void(0);\n",
        "\n",
        "\n",
        "Gaussian boson sampling\n",
        "-----------------------\n",
        "\n",
        ":doc:`Gaussian boson sampling </demos/run_gaussian_boson_sampling>` is a platform for photonic\n",
        "quantum computing where a Gaussian state is measured in the photon-number basis. The\n",
        "combinations of squeezing and interferometer operations implemented in Xanadu's hardware\n",
        "generate a Gaussian output state, so these devices can be used to implement Gaussian boson\n",
        "sampling. When the interferometers are programmed according to random unitaries, arguments from\n",
        "computational complexity theory can be invoked to argue that the output distribution cannot be\n",
        "sampled from efficiently using classical computers.\n",
        "\n",
        "`Haar-random unitaries\n",
        "<https://pennylane.ai/qml/demos/tutorial_haar_measure.html>`__ can be generated\n",
        "using the :func:`~strawberryfields.utils.random_interferometer` function.\n"
      ]
    },
    {
      "cell_type": "code",
      "execution_count": 2,
      "metadata": {
        "collapsed": false
      },
      "outputs": [
        {
          "name": "stderr",
          "output_type": "stream",
          "text": [
            "/Users/oscarscholin/anaconda3/lib/python3.11/site-packages/pandas/core/arrays/masked.py:60: UserWarning: Pandas requires version '1.3.6' or newer of 'bottleneck' (version '1.3.5' currently installed).\n",
            "  from pandas.core import (\n"
          ]
        }
      ],
      "source": [
        "from strawberryfields.utils import random_interferometer\n",
        "U_GBS = random_interferometer(4)"
      ]
    },
    {
      "cell_type": "markdown",
      "metadata": {},
      "source": [
        "We define a program on eight modes where two-mode squeezing gates are applied to each pair of\n",
        "signal-idler modes. To maximize the number of photons generated, we turn all squeezers on and\n",
        "program the interferometer according to the random unitary generated above.\n",
        "\n"
      ]
    },
    {
      "cell_type": "code",
      "execution_count": 3,
      "metadata": {
        "collapsed": false
      },
      "outputs": [],
      "source": [
        "import strawberryfields as sf\n",
        "from strawberryfields import ops\n",
        "\n",
        "nr_modes = 8\n",
        "gbs_prog = sf.Program(nr_modes)\n",
        "with gbs_prog.context as q:\n",
        "    # Two-mode squeezing. Allowed values are r=1.0 (on) or r=0.0 (off)\n",
        "    ops.S2gate(1.0) | (q[0], q[4])\n",
        "    ops.S2gate(1.0) | (q[1], q[5])\n",
        "    ops.S2gate(1.0) | (q[2], q[6])\n",
        "    ops.S2gate(1.0) | (q[3], q[7])\n",
        "\n",
        "    # Equal interferometers on signal and idler modes\n",
        "    ops.Interferometer(U_GBS) | (q[0], q[1], q[2], q[3])\n",
        "    ops.Interferometer(U_GBS) | (q[4], q[5], q[6], q[7])\n",
        "\n",
        "    # Measure output state in the Fock basis\n",
        "    ops.MeasureFock() | q"
      ]
    },
    {
      "cell_type": "markdown",
      "metadata": {},
      "source": [
        "This program can then be executed across any compatible device. We run the remote\n",
        "engine to request 400,000 samples (four hundred thousand samples! 🤯) from Xanadu's X8 chip.\n",
        "\n"
      ]
    },
    {
      "cell_type": "code",
      "execution_count": 4,
      "metadata": {
        "collapsed": false
      },
      "outputs": [
        {
          "ename": "ImportError",
          "evalue": "cannot import name 'Simulator' from 'strawberryfields' (/Users/oscarscholin/anaconda3/lib/python3.11/site-packages/strawberryfields/__init__.py)",
          "output_type": "error",
          "traceback": [
            "\u001b[0;31m---------------------------------------------------------------------------\u001b[0m",
            "\u001b[0;31mImportError\u001b[0m                               Traceback (most recent call last)",
            "Cell \u001b[0;32mIn[4], line 1\u001b[0m\n\u001b[0;32m----> 1\u001b[0m \u001b[38;5;28;01mfrom\u001b[39;00m \u001b[38;5;21;01mstrawberryfields\u001b[39;00m \u001b[38;5;28;01mimport\u001b[39;00m Simulator\n\u001b[1;32m      3\u001b[0m eng \u001b[38;5;241m=\u001b[39m sf\u001b[38;5;241m.\u001b[39mSimulator(\u001b[38;5;124m\"\u001b[39m\u001b[38;5;124mX8\u001b[39m\u001b[38;5;124m\"\u001b[39m)\n\u001b[1;32m      4\u001b[0m gbs_results \u001b[38;5;241m=\u001b[39m eng\u001b[38;5;241m.\u001b[39mrun(gbs_prog, shots\u001b[38;5;241m=\u001b[39m\u001b[38;5;241m400000\u001b[39m)\n",
            "\u001b[0;31mImportError\u001b[0m: cannot import name 'Simulator' from 'strawberryfields' (/Users/oscarscholin/anaconda3/lib/python3.11/site-packages/strawberryfields/__init__.py)"
          ]
        }
      ],
      "source": [
        "from strawberryfields import Simulator\n",
        "\n",
        "eng = sf.Simulator(\"X8\")\n",
        "gbs_results = eng.run(gbs_prog, shots=400000)\n",
        "gbs_samples = gbs_results.samples"
      ]
    },
    {
      "cell_type": "markdown",
      "metadata": {},
      "source": [
        "To visualize the results, we create a histogram depicting the probabilities of observing\n",
        "all possible patterns with four photons. These can be arranged into orbits that\n",
        "describe how the photons are distributed across modes. For example the orbit $[1, 1, 1,\n",
        "1]$ is the set of all patterns where a single photon is detected in four different modes, e.g.,\n",
        "$[0, 1, 1, 0, 0, 1, 0, 1]$. Similarly the orbit $[2, 2]$ is the set of all patterns\n",
        "where two photons are detected in one mode and two photons are detected in another mode, e.g.,\n",
        "$[0, 0, 2, 0, 2, 0, 0, 0]$.\n",
        "\n"
      ]
    },
    {
      "cell_type": "code",
      "execution_count": null,
      "metadata": {
        "collapsed": false
      },
      "outputs": [],
      "source": [
        "from sympy.utilities.iterables import multiset_permutations\n",
        "from strawberryfields.apps.similarity import orbits\n",
        "import numpy as np\n",
        "\n",
        "nr_photons = 4\n",
        "\n",
        "# generate all possible patterns and count the number in each orbit\n",
        "patterns = []\n",
        "counts = []\n",
        "counter = 0\n",
        "for orb in orbits(nr_photons):\n",
        "    orb = orb + [0] * (nr_modes - len(orb))\n",
        "    for p in multiset_permutations(orb):\n",
        "        patterns.append(p)\n",
        "        counter += 1\n",
        "    counts.append(counter)\n",
        "\n",
        "patterns = np.array(patterns)\n",
        "nr_patterns = len(patterns)\n",
        "\n",
        "print(list(orbits(nr_photons)))\n",
        "print(counts)"
      ]
    },
    {
      "cell_type": "markdown",
      "metadata": {},
      "source": [
        ".. rst-class:: sphx-glr-script-out\n",
        "\n",
        " Out:\n",
        "\n",
        " .. code-block:: none\n",
        "\n",
        "      [[1, 1, 1, 1], [2, 1, 1], [3, 1], [2, 2], [4]]\n",
        "      [70, 238, 294, 322, 330]\n",
        "\n"
      ]
    },
    {
      "cell_type": "markdown",
      "metadata": {},
      "source": [
        "To create the histogram, we use a python dictionary that assigns a unique number to each pattern,\n",
        "making it easy to record the number of times each pattern is observed.\n",
        "\n"
      ]
    },
    {
      "cell_type": "code",
      "execution_count": null,
      "metadata": {
        "collapsed": false
      },
      "outputs": [],
      "source": [
        "sample_dict = {}\n",
        "for i in range(nr_patterns):\n",
        "    sample_dict[str(patterns[i])] = i"
      ]
    },
    {
      "cell_type": "markdown",
      "metadata": {},
      "source": [
        "We iterate over all samples with four photons, keeping track of the number of times each\n",
        "pattern appears. The resulting array is normalized so its entries sum to unity.\n",
        "This provides an empirical estimate of the conditional probability of observing each pattern\n",
        "across samples with four photons.\n",
        "\n"
      ]
    },
    {
      "cell_type": "code",
      "execution_count": null,
      "metadata": {
        "collapsed": false
      },
      "outputs": [],
      "source": [
        "from strawberryfields.apps.sample import postselect\n",
        "\n",
        "# post-select samples on outputs with four photons\n",
        "gbs_samples = postselect(gbs_samples, nr_photons, nr_photons)\n",
        "\n",
        "probs_samples = np.zeros(nr_patterns)\n",
        "\n",
        "for s in gbs_samples:\n",
        "    index = sample_dict[str(s)]\n",
        "    probs_samples[index] += 1\n",
        "\n",
        "norm = np.sum(probs_samples)\n",
        "probs_samples = np.array([p / norm for p in probs_samples])"
      ]
    },
    {
      "cell_type": "markdown",
      "metadata": {},
      "source": [
        "We plot the reconstructed probability distribution. We use a different\n",
        "colour for each of the five orbit of four photons: $[1,1,1,1]$, $[2,1,1]$,\n",
        "$[3,1]$, $[2,2]$, $[4]$. The resulting histogram depicts that some patterns\n",
        "occur with higher probability than others.\n",
        "\n"
      ]
    },
    {
      "cell_type": "code",
      "execution_count": null,
      "metadata": {
        "collapsed": false
      },
      "outputs": [],
      "source": [
        "import matplotlib.pyplot as plt\n",
        "\n",
        "plt.figure()\n",
        "x = np.arange(nr_patterns)\n",
        "plt.bar(x[:counts[0]], probs_samples[:counts[0]], color=\"#508104\")\n",
        "plt.bar(x[counts[0]:counts[1]], probs_samples[counts[0]:counts[1]], color=\"#9e8e01\")\n",
        "plt.bar(x[counts[1]:counts[2]], probs_samples[counts[1]:counts[2]], color=\"#f3b800\")\n",
        "plt.bar(x[counts[2]:counts[3]], probs_samples[counts[2]:counts[3]], color=\"#db8200\")\n",
        "plt.bar(x[counts[3]:counts[4]], probs_samples[counts[3]:counts[4]], color=\"#b64201\")\n",
        "plt.xlabel(\"Pattern\")\n",
        "plt.xticks([], [])\n",
        "plt.ylabel(\"Probability\")\n",
        "plt.show()"
      ]
    },
    {
      "cell_type": "markdown",
      "metadata": {},
      "source": [
        "![](/tutorials/images/GBS_histogram.svg)\n",
        "\n",
        "    :align: center\n",
        "    :width: 66%\n",
        "\n",
        "\n",
        "Vibronic spectra\n",
        "----------------\n",
        "Molecules can absorb light when they undergo a transition between different vibrational and\n",
        "electronic (vibronic) states. The vibronic spectrum of a\n",
        "molecule describes the wavelengths of light that are more strongly absorbed in this process. In\n",
        "the photonic algorithm for vibronic spectra, optical modes represent the vibrational\n",
        "normal modes of the molecule. The device is programmed to replicate the transformation\n",
        "experienced by the vibrational modes during a vibronic transition.\n",
        "\n",
        "In this proof-of-principle demonstration, we program the device according to the interferometer\n",
        "transformations that result from the mode-mixing of ethylene upon a vibronic transition. This\n",
        "interferometer is described by the following unitary:\n",
        "\n"
      ]
    },
    {
      "cell_type": "code",
      "execution_count": null,
      "metadata": {
        "collapsed": false
      },
      "outputs": [],
      "source": [
        "U_vibronic = np.array([\n",
        "    [-0.5349105592386603, 0.8382670887228271, 0.10356058421030308, -0.021311662937477004],\n",
        "    [-0.6795134137271818, -0.4999083619063322, 0.5369830827402383, 0.001522863010877817],\n",
        "    [-0.4295084785810517, -0.17320833713971984, -0.7062800928050401, 0.5354341876268153],\n",
        "    [0.2601051345260338, 0.13190447151471643, 0.4495473331653913, 0.8443066531962792]\n",
        "])"
      ]
    },
    {
      "cell_type": "markdown",
      "metadata": {},
      "source": [
        "We define a new program to execute the vibronic spectrum algorithm. We only include\n",
        "squeezing on the first pair of modes.\n",
        "\n"
      ]
    },
    {
      "cell_type": "code",
      "execution_count": null,
      "metadata": {
        "collapsed": false
      },
      "outputs": [],
      "source": [
        "eng = sf.RemoteEngine(\"X8\")\n",
        "vibronic_prog = sf.Program(nr_modes)\n",
        "\n",
        "with vibronic_prog.context as q:\n",
        "    ops.S2gate(1.0) | (q[0], q[4])\n",
        "\n",
        "    ops.Interferometer(U_vibronic) | (q[0], q[1], q[2], q[3])\n",
        "    ops.Interferometer(U_vibronic) | (q[4], q[5], q[6], q[7])\n",
        "\n",
        "    ops.MeasureFock() | q\n",
        "\n",
        "vibronic_results = eng.run(vibronic_prog, shots=400000)\n",
        "vibronic_samples = vibronic_results.samples"
      ]
    },
    {
      "cell_type": "markdown",
      "metadata": {},
      "source": [
        "The Strawberry Fields applications module contains functionality for reconstructing vibronic\n",
        "spectra. Each photon pattern is assigned an energy that can be used to\n",
        "reconstruct a histogram. The peaks of this histogram represent the absorption lines\n",
        "of the molecule's vibronic spectrum. We employ a convention where zero energy is assigned to a\n",
        "transition between vibrational ground states of the initial and final electronic states,\n",
        "which correspond to vacuum outputs.\n",
        "\n"
      ]
    },
    {
      "cell_type": "code",
      "execution_count": null,
      "metadata": {
        "collapsed": false
      },
      "outputs": [],
      "source": [
        "from strawberryfields.apps import vibronic, plot\n",
        "import plotly\n",
        "\n",
        "vibronic_samples = [list(s) for s in vibronic_samples]\n",
        "\n",
        "# frequencies of the initial and final normal modes\n",
        "w = [2979, 1580, 1286, 977]\n",
        "wp = [2828, 1398, 1227, 855]\n",
        "energies = vibronic.energies(vibronic_samples, w, wp)\n",
        "plot.spectrum(energies, xmin=-6000, xmax=6000)"
      ]
    },
    {
      "cell_type": "markdown",
      "metadata": {},
      "source": [
        "![](/tutorials/images/vibronic.png)\n",
        "\n",
        "    :align: center\n",
        "    :width: 66%\n",
        "\n",
        "\n",
        "Graph similarity\n",
        "----------------\n",
        "Graphs can be encoded in photonic circuits by selecting squeezing values and interferometer\n",
        "settings according to a decomposition of the graph's adjacency matrix. The\n",
        "statistics of the resulting distribution of photon patterns carry information about the encoded\n",
        "graph, which can be used to study similarity between graphs. One method to achieve this is to\n",
        "estimate orbit probabilities and collect them in the form of feature vectors.\n",
        "\n",
        "The specific architecture of X8 chips permits the encoding of bipartite weighted graphs such\n",
        "that the non-zero eigenvalues of their adjacency matrix are all equal. The\n",
        "adjaceny matrices of bipartite graphs have block structure, where the off-diagonal blocks\n",
        "contain the edge weights connecting nodes in the separate bipartitions.\n",
        "\n",
        "We construct two such\n",
        "adjacency matrices A1 and A2 from the respective off-diagonal blocks C1 and C2:\n",
        "\n"
      ]
    },
    {
      "cell_type": "code",
      "execution_count": null,
      "metadata": {
        "collapsed": false
      },
      "outputs": [],
      "source": [
        "# off-diagonal blocks\n",
        "C1 = np.array(\n",
        "    [\n",
        "        [0.0826, 0.1231, 0.0789, -0.1969],\n",
        "        [0.1231, 0.1834, 0.1176, -0.2935],\n",
        "        [0.0789, 0.1176, 0.0754, -0.1882],\n",
        "        [-0.1969, -0.2935, -0.1882, 0.4697],\n",
        "    ]\n",
        ")\n",
        "\n",
        "C2 = np.array(\n",
        "    [\n",
        "        [0.7925, 0.1076, -0.0125, 0.0545],\n",
        "        [0.1076, 0.1869, 0.0725, -0.3160],\n",
        "        [-0.0125, 0.0725, 0.8026, 0.0367],\n",
        "        [0.0545, -0.3160, 0.0367, 0.6511],\n",
        "    ]\n",
        ")\n",
        "\n",
        "# full adjacency matrices\n",
        "O = np.zeros((4, 4))\n",
        "A1 = np.block([[O, C1], [C1.T, O]])\n",
        "A2 = np.block([[O, C2], [C2.T, O]])"
      ]
    },
    {
      "cell_type": "markdown",
      "metadata": {},
      "source": [
        "The squeezing parameters $r_i$ and interferometer unitary $U$ of the circuit\n",
        "encoding the graphs are related to the Autonne-Takagi decomposition of the off-diagonal blocks\n",
        "$C$ as $C = U\\,\\text{diag}(r_i)\\,U^T$. These parameters can be obtained directly using\n",
        "Strawberry Fields.\n",
        "\n"
      ]
    },
    {
      "cell_type": "code",
      "execution_count": null,
      "metadata": {
        "collapsed": false
      },
      "outputs": [],
      "source": [
        "r1, U1 = sf.decompositions.takagi(C1)\n",
        "r2, U2 = sf.decompositions.takagi(C2)\n",
        "\n",
        "print(r1)\n",
        "print(r2)"
      ]
    },
    {
      "cell_type": "markdown",
      "metadata": {},
      "source": [
        ".. rst-class:: sphx-glr-script-out\n",
        "\n",
        " Out:\n",
        "\n",
        " .. code-block:: none\n",
        "\n",
        "      [8.11073932e-01 7.01706638e-05 3.67973142e-05 7.30565705e-06]\n",
        "      [8.11092959e-01 8.11039956e-01 8.11020979e-01 5.38942155e-05]\n",
        "\n"
      ]
    },
    {
      "cell_type": "markdown",
      "metadata": {},
      "source": [
        "To convert into a format accepted by the device, we set negligible values to zero and others\n",
        "equal to one, i.e., we turn on squeezers corresponding to non-negligible values. This results\n",
        "simply in changing the total mean photon number of the distribution.\n",
        "\n"
      ]
    },
    {
      "cell_type": "code",
      "execution_count": null,
      "metadata": {
        "collapsed": false
      },
      "outputs": [],
      "source": [
        "# set small values to zero\n",
        "r1[np.abs(r1) < 1e-2] = 0.0\n",
        "r2[np.abs(r2) < 1e-2] = 0.0\n",
        "\n",
        "# set large values to one\n",
        "r1[np.abs(r1) > 1e-2] = 1.0\n",
        "r2[np.abs(r2) > 1e-2] = 1.0\n",
        "\n",
        "# first graph\n",
        "eng = sf.RemoteEngine(\"X8\")\n",
        "similarity_prog1 = sf.Program(nr_modes)\n",
        "\n",
        "with similarity_prog1.context as q:\n",
        "    for i, r in enumerate(r1):\n",
        "        ops.S2gate(r) | (q[i], q[i + 4])\n",
        "\n",
        "    ops.Interferometer(U1) | (q[0], q[1], q[2], q[3])\n",
        "    ops.Interferometer(U1) | (q[4], q[5], q[6], q[7])\n",
        "    ops.MeasureFock() | q\n",
        "\n",
        "similarity_results1 = eng.run(similarity_prog1, shots=400000)\n",
        "similarity_samples1 = similarity_results1.samples\n",
        "\n",
        "# second graph\n",
        "eng = sf.RemoteEngine(\"X8\")\n",
        "similarity_prog2 = sf.Program(nr_modes)\n",
        "\n",
        "with similarity_prog2.context as q:\n",
        "    for i, r in enumerate(r2):\n",
        "        ops.S2gate(r) | (q[i], q[i + 4])\n",
        "\n",
        "    ops.Interferometer(U2) | (q[0], q[1], q[2], q[3])\n",
        "    ops.Interferometer(U2) | (q[4], q[5], q[6], q[7])\n",
        "    ops.MeasureFock() | q\n",
        "\n",
        "similarity_results2 = eng.run(similarity_prog2, shots=400000)\n",
        "similarity_samples2 = similarity_results2.samples"
      ]
    },
    {
      "cell_type": "markdown",
      "metadata": {},
      "source": [
        "We create feature vectors whose entries are given by the probabilities of observing samples\n",
        "inside different orbits. We consider the simple case of three-dimensional feature vectors\n",
        "constructed from orbits of three, four, and five photons. These can be obtained directly using\n",
        "Strawberry Fields.\n",
        "\n",
        "\n"
      ]
    },
    {
      "cell_type": "code",
      "execution_count": null,
      "metadata": {
        "collapsed": false
      },
      "outputs": [],
      "source": [
        "from strawberryfields.apps.similarity import feature_vector_orbits_sampling\n",
        "\n",
        "orbits = [[1, 1, 1], [1, 1, 1, 1], [2, 1, 1, 1]]\n",
        "vector1 = feature_vector_orbits_sampling(similarity_samples1, orbits)\n",
        "vector2 = feature_vector_orbits_sampling(similarity_samples2, orbits)"
      ]
    },
    {
      "cell_type": "markdown",
      "metadata": {},
      "source": [
        "We plot the feature vectors, which reflect and quantify the degree of similarity\n",
        "between their corresponding graphs.\n",
        "\n"
      ]
    },
    {
      "cell_type": "code",
      "execution_count": null,
      "metadata": {
        "collapsed": false
      },
      "outputs": [],
      "source": [
        "fig = plt.figure()\n",
        "ax = fig.add_subplot(111, projection='3d')\n",
        "\n",
        "ax.scatter(vector1[0], vector1[1], vector1[2], color=\"#508104\", s=150)\n",
        "ax.scatter(vector2[0], vector2[1], vector2[2], color=\"#b64201\", s=150)\n",
        "ax.set_xlabel('[1, 1, 1]')\n",
        "ax.set_ylabel('[1, 1, 1, 1]')\n",
        "ax.set_zlabel('[2, 1, 1, 1]')\n",
        "\n",
        "plt.show()"
      ]
    },
    {
      "cell_type": "markdown",
      "metadata": {},
      "source": [
        "![](/tutorials/images/similarity.svg)\n",
        "\n",
        "    :align: center\n",
        "    :width: 60%\n",
        "\n",
        "\n",
        "Conclusion\n",
        "-----------\n",
        "\n",
        "The demonstrations covered in this tutorial are photonic quantum algorithms executed remotely\n",
        "on programmable nanophotonic devices. There is something remarkable about this statement. It\n",
        "was not long ago that all quantum optics experiments occurred on large optical tables that\n",
        "could only be configured by a handful of experts familiar with the experimental setup.\n",
        "Technological progress across integrated nanophotonics, quantum software,\n",
        "and quantum algorithm development have made it possible for researchers and enthusiasts around\n",
        "the world to perform experiments from the comfort of their homes using just a few lines of\n",
        "code. We look forward to seeing what the community will be able to achieve when they play\n",
        "with these new toys. 😊\n",
        "\n"
      ]
    },
    {
      "cell_type": "markdown",
      "metadata": {},
      "source": [
        "References\n",
        "----------\n",
        "\n",
        ".. [#arrazola2021]\n",
        "\n",
        "    J.M. Arrazola, V. Bergholm, K. Brádler, T.R. Bromley, M.J. Collins, I. Dhand, A. Fumagalli,\n",
        "    T. Gerrits, A. Goussev, L.G. Helt, J. Hundal, T. Isacsson, R.B. Israel, J. Izaac,\n",
        "    S. Jahangiri, R. Janik, N. Killoran, S.P. Kumar, J. Lavoie, A.E. Lita, D.H. Mahler,\n",
        "    M. Menotti, B. Morrison, S.W. Nam, L. Neuhaus, H.Y. Qi, N. Quesada, A. Repingon,\n",
        "    K.K. Sabapathy, M. Schuld, D. Su, J. Swinarton, A. Száva, K. Tan, P. Tan, V.D. Vaidya,\n",
        "    Z. Vernon, Z. Zabaneh, Y. Zhang,\n",
        "    `Nature, 591, 54-60, (2021) <https://www.nature.com/articles/s41586-021-03202-1>`__.\n",
        "\n"
      ]
    }
  ],
  "metadata": {
    "kernelspec": {
      "display_name": "Python 3",
      "language": "python",
      "name": "python3"
    },
    "language_info": {
      "codemirror_mode": {
        "name": "ipython",
        "version": 3
      },
      "file_extension": ".py",
      "mimetype": "text/x-python",
      "name": "python",
      "nbconvert_exporter": "python",
      "pygments_lexer": "ipython3",
      "version": "3.11.5"
    }
  },
  "nbformat": 4,
  "nbformat_minor": 0
}
